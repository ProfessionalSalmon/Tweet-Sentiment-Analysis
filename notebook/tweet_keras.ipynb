{
  "cells": [
    {
      "cell_type": "code",
      "execution_count": null,
      "metadata": {
        "collapsed": true,
        "id": "E1EF5Y-JgZ_n"
      },
      "outputs": [],
      "source": [
        "!pip install contractions"
      ]
    },
    {
      "cell_type": "code",
      "source": [
        "!pip install --upgrade tensorflow tensorflow-hub"
      ],
      "metadata": {
        "id": "iAPUkS0bUpI8",
        "collapsed": true
      },
      "execution_count": null,
      "outputs": []
    },
    {
      "cell_type": "code",
      "execution_count": 28,
      "metadata": {
        "id": "1I4Meh0HDqLn",
        "colab": {
          "base_uri": "https://localhost:8080/"
        },
        "outputId": "c1495ea5-896d-4cb3-c15e-e8f52e9a206a"
      },
      "outputs": [
        {
          "output_type": "stream",
          "name": "stderr",
          "text": [
            "[nltk_data] Downloading package punkt_tab to /root/nltk_data...\n",
            "[nltk_data]   Package punkt_tab is already up-to-date!\n"
          ]
        },
        {
          "output_type": "execute_result",
          "data": {
            "text/plain": [
              "<torch._C.Generator at 0x7986b453f1b0>"
            ]
          },
          "metadata": {},
          "execution_count": 28
        }
      ],
      "source": [
        "import torch\n",
        "from torch.utils.data import Dataset, DataLoader, random_split\n",
        "import torch.nn as nn\n",
        "import torch.optim as optim\n",
        "\n",
        "import tensorflow as tf\n",
        "import tensorflow_hub as hub\n",
        "\n",
        "import nltk\n",
        "nltk.download('punkt_tab')\n",
        "from nltk.tokenize import word_tokenize\n",
        "\n",
        "import re\n",
        "\n",
        "import pandas as pd\n",
        "import matplotlib.pyplot as plt\n",
        "import numpy as np\n",
        "import seaborn as sns\n",
        "from sklearn.metrics import confusion_matrix, classification_report\n",
        "from sklearn.model_selection import train_test_split\n",
        "\n",
        "seed = 42\n",
        "torch.manual_seed(seed)"
      ]
    },
    {
      "cell_type": "markdown",
      "metadata": {
        "id": "7ZppHCpZgvhz"
      },
      "source": [
        "## Load Data and EDA"
      ]
    },
    {
      "cell_type": "code",
      "execution_count": 7,
      "metadata": {
        "colab": {
          "base_uri": "https://localhost:8080/"
        },
        "id": "ogqujKMcExc7",
        "outputId": "bafc10ac-4edb-4636-b533-0ba431376a2f"
      },
      "outputs": [
        {
          "output_type": "stream",
          "name": "stdout",
          "text": [
            "Mounted at /content/drive\n"
          ]
        }
      ],
      "source": [
        "from google.colab import drive\n",
        "drive.mount('/content/drive', force_remount=True)"
      ]
    },
    {
      "cell_type": "code",
      "execution_count": 8,
      "metadata": {
        "id": "KPHL28-yEzHp"
      },
      "outputs": [],
      "source": [
        "train = pd.read_csv('/content/drive/My Drive/code/Tweet/train.csv', encoding='latin-1')\n",
        "test = pd.read_csv('/content/drive/My Drive/code/Tweet/test.csv', encoding='latin-1')"
      ]
    },
    {
      "cell_type": "code",
      "execution_count": 9,
      "metadata": {
        "colab": {
          "base_uri": "https://localhost:8080/",
          "height": 275
        },
        "id": "qIHnxW2Sg31N",
        "outputId": "b6ff2e10-d849-4995-fd76-eaa16dd8ccbb"
      },
      "outputs": [
        {
          "output_type": "execute_result",
          "data": {
            "text/plain": [
              "       textID                                               text  \\\n",
              "0  cb774db0d1                I`d have responded, if I were going   \n",
              "1  549e992a42      Sooo SAD I will miss you here in San Diego!!!   \n",
              "2  088c60f138                          my boss is bullying me...   \n",
              "3  9642c003ef                     what interview! leave me alone   \n",
              "4  358bd9e861   Sons of ****, why couldn`t they put them on t...   \n",
              "\n",
              "                         selected_text sentiment Time of Tweet Age of User  \\\n",
              "0  I`d have responded, if I were going   neutral       morning        0-20   \n",
              "1                             Sooo SAD  negative          noon       21-30   \n",
              "2                          bullying me  negative         night       31-45   \n",
              "3                       leave me alone  negative       morning       46-60   \n",
              "4                        Sons of ****,  negative          noon       60-70   \n",
              "\n",
              "       Country  Population -2020  Land Area (Km²)  Density (P/Km²)  \n",
              "0  Afghanistan          38928346         652860.0               60  \n",
              "1      Albania           2877797          27400.0              105  \n",
              "2      Algeria          43851044        2381740.0               18  \n",
              "3      Andorra             77265            470.0              164  \n",
              "4       Angola          32866272        1246700.0               26  "
            ],
            "text/html": [
              "\n",
              "  <div id=\"df-50fe7ce9-ae19-427f-a368-e08b231aa277\" class=\"colab-df-container\">\n",
              "    <div>\n",
              "<style scoped>\n",
              "    .dataframe tbody tr th:only-of-type {\n",
              "        vertical-align: middle;\n",
              "    }\n",
              "\n",
              "    .dataframe tbody tr th {\n",
              "        vertical-align: top;\n",
              "    }\n",
              "\n",
              "    .dataframe thead th {\n",
              "        text-align: right;\n",
              "    }\n",
              "</style>\n",
              "<table border=\"1\" class=\"dataframe\">\n",
              "  <thead>\n",
              "    <tr style=\"text-align: right;\">\n",
              "      <th></th>\n",
              "      <th>textID</th>\n",
              "      <th>text</th>\n",
              "      <th>selected_text</th>\n",
              "      <th>sentiment</th>\n",
              "      <th>Time of Tweet</th>\n",
              "      <th>Age of User</th>\n",
              "      <th>Country</th>\n",
              "      <th>Population -2020</th>\n",
              "      <th>Land Area (Km²)</th>\n",
              "      <th>Density (P/Km²)</th>\n",
              "    </tr>\n",
              "  </thead>\n",
              "  <tbody>\n",
              "    <tr>\n",
              "      <th>0</th>\n",
              "      <td>cb774db0d1</td>\n",
              "      <td>I`d have responded, if I were going</td>\n",
              "      <td>I`d have responded, if I were going</td>\n",
              "      <td>neutral</td>\n",
              "      <td>morning</td>\n",
              "      <td>0-20</td>\n",
              "      <td>Afghanistan</td>\n",
              "      <td>38928346</td>\n",
              "      <td>652860.0</td>\n",
              "      <td>60</td>\n",
              "    </tr>\n",
              "    <tr>\n",
              "      <th>1</th>\n",
              "      <td>549e992a42</td>\n",
              "      <td>Sooo SAD I will miss you here in San Diego!!!</td>\n",
              "      <td>Sooo SAD</td>\n",
              "      <td>negative</td>\n",
              "      <td>noon</td>\n",
              "      <td>21-30</td>\n",
              "      <td>Albania</td>\n",
              "      <td>2877797</td>\n",
              "      <td>27400.0</td>\n",
              "      <td>105</td>\n",
              "    </tr>\n",
              "    <tr>\n",
              "      <th>2</th>\n",
              "      <td>088c60f138</td>\n",
              "      <td>my boss is bullying me...</td>\n",
              "      <td>bullying me</td>\n",
              "      <td>negative</td>\n",
              "      <td>night</td>\n",
              "      <td>31-45</td>\n",
              "      <td>Algeria</td>\n",
              "      <td>43851044</td>\n",
              "      <td>2381740.0</td>\n",
              "      <td>18</td>\n",
              "    </tr>\n",
              "    <tr>\n",
              "      <th>3</th>\n",
              "      <td>9642c003ef</td>\n",
              "      <td>what interview! leave me alone</td>\n",
              "      <td>leave me alone</td>\n",
              "      <td>negative</td>\n",
              "      <td>morning</td>\n",
              "      <td>46-60</td>\n",
              "      <td>Andorra</td>\n",
              "      <td>77265</td>\n",
              "      <td>470.0</td>\n",
              "      <td>164</td>\n",
              "    </tr>\n",
              "    <tr>\n",
              "      <th>4</th>\n",
              "      <td>358bd9e861</td>\n",
              "      <td>Sons of ****, why couldn`t they put them on t...</td>\n",
              "      <td>Sons of ****,</td>\n",
              "      <td>negative</td>\n",
              "      <td>noon</td>\n",
              "      <td>60-70</td>\n",
              "      <td>Angola</td>\n",
              "      <td>32866272</td>\n",
              "      <td>1246700.0</td>\n",
              "      <td>26</td>\n",
              "    </tr>\n",
              "  </tbody>\n",
              "</table>\n",
              "</div>\n",
              "    <div class=\"colab-df-buttons\">\n",
              "\n",
              "  <div class=\"colab-df-container\">\n",
              "    <button class=\"colab-df-convert\" onclick=\"convertToInteractive('df-50fe7ce9-ae19-427f-a368-e08b231aa277')\"\n",
              "            title=\"Convert this dataframe to an interactive table.\"\n",
              "            style=\"display:none;\">\n",
              "\n",
              "  <svg xmlns=\"http://www.w3.org/2000/svg\" height=\"24px\" viewBox=\"0 -960 960 960\">\n",
              "    <path d=\"M120-120v-720h720v720H120Zm60-500h600v-160H180v160Zm220 220h160v-160H400v160Zm0 220h160v-160H400v160ZM180-400h160v-160H180v160Zm440 0h160v-160H620v160ZM180-180h160v-160H180v160Zm440 0h160v-160H620v160Z\"/>\n",
              "  </svg>\n",
              "    </button>\n",
              "\n",
              "  <style>\n",
              "    .colab-df-container {\n",
              "      display:flex;\n",
              "      gap: 12px;\n",
              "    }\n",
              "\n",
              "    .colab-df-convert {\n",
              "      background-color: #E8F0FE;\n",
              "      border: none;\n",
              "      border-radius: 50%;\n",
              "      cursor: pointer;\n",
              "      display: none;\n",
              "      fill: #1967D2;\n",
              "      height: 32px;\n",
              "      padding: 0 0 0 0;\n",
              "      width: 32px;\n",
              "    }\n",
              "\n",
              "    .colab-df-convert:hover {\n",
              "      background-color: #E2EBFA;\n",
              "      box-shadow: 0px 1px 2px rgba(60, 64, 67, 0.3), 0px 1px 3px 1px rgba(60, 64, 67, 0.15);\n",
              "      fill: #174EA6;\n",
              "    }\n",
              "\n",
              "    .colab-df-buttons div {\n",
              "      margin-bottom: 4px;\n",
              "    }\n",
              "\n",
              "    [theme=dark] .colab-df-convert {\n",
              "      background-color: #3B4455;\n",
              "      fill: #D2E3FC;\n",
              "    }\n",
              "\n",
              "    [theme=dark] .colab-df-convert:hover {\n",
              "      background-color: #434B5C;\n",
              "      box-shadow: 0px 1px 3px 1px rgba(0, 0, 0, 0.15);\n",
              "      filter: drop-shadow(0px 1px 2px rgba(0, 0, 0, 0.3));\n",
              "      fill: #FFFFFF;\n",
              "    }\n",
              "  </style>\n",
              "\n",
              "    <script>\n",
              "      const buttonEl =\n",
              "        document.querySelector('#df-50fe7ce9-ae19-427f-a368-e08b231aa277 button.colab-df-convert');\n",
              "      buttonEl.style.display =\n",
              "        google.colab.kernel.accessAllowed ? 'block' : 'none';\n",
              "\n",
              "      async function convertToInteractive(key) {\n",
              "        const element = document.querySelector('#df-50fe7ce9-ae19-427f-a368-e08b231aa277');\n",
              "        const dataTable =\n",
              "          await google.colab.kernel.invokeFunction('convertToInteractive',\n",
              "                                                    [key], {});\n",
              "        if (!dataTable) return;\n",
              "\n",
              "        const docLinkHtml = 'Like what you see? Visit the ' +\n",
              "          '<a target=\"_blank\" href=https://colab.research.google.com/notebooks/data_table.ipynb>data table notebook</a>'\n",
              "          + ' to learn more about interactive tables.';\n",
              "        element.innerHTML = '';\n",
              "        dataTable['output_type'] = 'display_data';\n",
              "        await google.colab.output.renderOutput(dataTable, element);\n",
              "        const docLink = document.createElement('div');\n",
              "        docLink.innerHTML = docLinkHtml;\n",
              "        element.appendChild(docLink);\n",
              "      }\n",
              "    </script>\n",
              "  </div>\n",
              "\n",
              "\n",
              "<div id=\"df-655ee039-d13d-426f-9928-8bc54b88ea5f\">\n",
              "  <button class=\"colab-df-quickchart\" onclick=\"quickchart('df-655ee039-d13d-426f-9928-8bc54b88ea5f')\"\n",
              "            title=\"Suggest charts\"\n",
              "            style=\"display:none;\">\n",
              "\n",
              "<svg xmlns=\"http://www.w3.org/2000/svg\" height=\"24px\"viewBox=\"0 0 24 24\"\n",
              "     width=\"24px\">\n",
              "    <g>\n",
              "        <path d=\"M19 3H5c-1.1 0-2 .9-2 2v14c0 1.1.9 2 2 2h14c1.1 0 2-.9 2-2V5c0-1.1-.9-2-2-2zM9 17H7v-7h2v7zm4 0h-2V7h2v10zm4 0h-2v-4h2v4z\"/>\n",
              "    </g>\n",
              "</svg>\n",
              "  </button>\n",
              "\n",
              "<style>\n",
              "  .colab-df-quickchart {\n",
              "      --bg-color: #E8F0FE;\n",
              "      --fill-color: #1967D2;\n",
              "      --hover-bg-color: #E2EBFA;\n",
              "      --hover-fill-color: #174EA6;\n",
              "      --disabled-fill-color: #AAA;\n",
              "      --disabled-bg-color: #DDD;\n",
              "  }\n",
              "\n",
              "  [theme=dark] .colab-df-quickchart {\n",
              "      --bg-color: #3B4455;\n",
              "      --fill-color: #D2E3FC;\n",
              "      --hover-bg-color: #434B5C;\n",
              "      --hover-fill-color: #FFFFFF;\n",
              "      --disabled-bg-color: #3B4455;\n",
              "      --disabled-fill-color: #666;\n",
              "  }\n",
              "\n",
              "  .colab-df-quickchart {\n",
              "    background-color: var(--bg-color);\n",
              "    border: none;\n",
              "    border-radius: 50%;\n",
              "    cursor: pointer;\n",
              "    display: none;\n",
              "    fill: var(--fill-color);\n",
              "    height: 32px;\n",
              "    padding: 0;\n",
              "    width: 32px;\n",
              "  }\n",
              "\n",
              "  .colab-df-quickchart:hover {\n",
              "    background-color: var(--hover-bg-color);\n",
              "    box-shadow: 0 1px 2px rgba(60, 64, 67, 0.3), 0 1px 3px 1px rgba(60, 64, 67, 0.15);\n",
              "    fill: var(--button-hover-fill-color);\n",
              "  }\n",
              "\n",
              "  .colab-df-quickchart-complete:disabled,\n",
              "  .colab-df-quickchart-complete:disabled:hover {\n",
              "    background-color: var(--disabled-bg-color);\n",
              "    fill: var(--disabled-fill-color);\n",
              "    box-shadow: none;\n",
              "  }\n",
              "\n",
              "  .colab-df-spinner {\n",
              "    border: 2px solid var(--fill-color);\n",
              "    border-color: transparent;\n",
              "    border-bottom-color: var(--fill-color);\n",
              "    animation:\n",
              "      spin 1s steps(1) infinite;\n",
              "  }\n",
              "\n",
              "  @keyframes spin {\n",
              "    0% {\n",
              "      border-color: transparent;\n",
              "      border-bottom-color: var(--fill-color);\n",
              "      border-left-color: var(--fill-color);\n",
              "    }\n",
              "    20% {\n",
              "      border-color: transparent;\n",
              "      border-left-color: var(--fill-color);\n",
              "      border-top-color: var(--fill-color);\n",
              "    }\n",
              "    30% {\n",
              "      border-color: transparent;\n",
              "      border-left-color: var(--fill-color);\n",
              "      border-top-color: var(--fill-color);\n",
              "      border-right-color: var(--fill-color);\n",
              "    }\n",
              "    40% {\n",
              "      border-color: transparent;\n",
              "      border-right-color: var(--fill-color);\n",
              "      border-top-color: var(--fill-color);\n",
              "    }\n",
              "    60% {\n",
              "      border-color: transparent;\n",
              "      border-right-color: var(--fill-color);\n",
              "    }\n",
              "    80% {\n",
              "      border-color: transparent;\n",
              "      border-right-color: var(--fill-color);\n",
              "      border-bottom-color: var(--fill-color);\n",
              "    }\n",
              "    90% {\n",
              "      border-color: transparent;\n",
              "      border-bottom-color: var(--fill-color);\n",
              "    }\n",
              "  }\n",
              "</style>\n",
              "\n",
              "  <script>\n",
              "    async function quickchart(key) {\n",
              "      const quickchartButtonEl =\n",
              "        document.querySelector('#' + key + ' button');\n",
              "      quickchartButtonEl.disabled = true;  // To prevent multiple clicks.\n",
              "      quickchartButtonEl.classList.add('colab-df-spinner');\n",
              "      try {\n",
              "        const charts = await google.colab.kernel.invokeFunction(\n",
              "            'suggestCharts', [key], {});\n",
              "      } catch (error) {\n",
              "        console.error('Error during call to suggestCharts:', error);\n",
              "      }\n",
              "      quickchartButtonEl.classList.remove('colab-df-spinner');\n",
              "      quickchartButtonEl.classList.add('colab-df-quickchart-complete');\n",
              "    }\n",
              "    (() => {\n",
              "      let quickchartButtonEl =\n",
              "        document.querySelector('#df-655ee039-d13d-426f-9928-8bc54b88ea5f button');\n",
              "      quickchartButtonEl.style.display =\n",
              "        google.colab.kernel.accessAllowed ? 'block' : 'none';\n",
              "    })();\n",
              "  </script>\n",
              "</div>\n",
              "\n",
              "    </div>\n",
              "  </div>\n"
            ],
            "application/vnd.google.colaboratory.intrinsic+json": {
              "type": "dataframe",
              "variable_name": "train",
              "summary": "{\n  \"name\": \"train\",\n  \"rows\": 27481,\n  \"fields\": [\n    {\n      \"column\": \"textID\",\n      \"properties\": {\n        \"dtype\": \"string\",\n        \"num_unique_values\": 27481,\n        \"samples\": [\n          \"a7f72a928a\",\n          \"ef42dee96c\",\n          \"07d17131b1\"\n        ],\n        \"semantic_type\": \"\",\n        \"description\": \"\"\n      }\n    },\n    {\n      \"column\": \"text\",\n      \"properties\": {\n        \"dtype\": \"string\",\n        \"num_unique_values\": 27480,\n        \"samples\": [\n          \" Enjoy! Family trumps everything\",\n          \" --of them kinda turns me off of it all.  And then I buy more of them and dig a deeper hole, etc. ;;\",\n          \"Clive it`s my birthday pat me  http://apps.facebook.com/dogbook/profile/view/6386106\"\n        ],\n        \"semantic_type\": \"\",\n        \"description\": \"\"\n      }\n    },\n    {\n      \"column\": \"selected_text\",\n      \"properties\": {\n        \"dtype\": \"string\",\n        \"num_unique_values\": 22430,\n        \"samples\": [\n          \"that is why I drive a (teeny tiny) honda civic\",\n          \"Sorry...but, I bet they aren`t that bad...\",\n          \"yummy\"\n        ],\n        \"semantic_type\": \"\",\n        \"description\": \"\"\n      }\n    },\n    {\n      \"column\": \"sentiment\",\n      \"properties\": {\n        \"dtype\": \"category\",\n        \"num_unique_values\": 3,\n        \"samples\": [\n          \"neutral\",\n          \"negative\",\n          \"positive\"\n        ],\n        \"semantic_type\": \"\",\n        \"description\": \"\"\n      }\n    },\n    {\n      \"column\": \"Time of Tweet\",\n      \"properties\": {\n        \"dtype\": \"category\",\n        \"num_unique_values\": 3,\n        \"samples\": [\n          \"morning\",\n          \"noon\",\n          \"night\"\n        ],\n        \"semantic_type\": \"\",\n        \"description\": \"\"\n      }\n    },\n    {\n      \"column\": \"Age of User\",\n      \"properties\": {\n        \"dtype\": \"category\",\n        \"num_unique_values\": 6,\n        \"samples\": [\n          \"0-20\",\n          \"21-30\",\n          \"70-100\"\n        ],\n        \"semantic_type\": \"\",\n        \"description\": \"\"\n      }\n    },\n    {\n      \"column\": \"Country\",\n      \"properties\": {\n        \"dtype\": \"category\",\n        \"num_unique_values\": 195,\n        \"samples\": [\n          \"Philippines\",\n          \"Belgium\",\n          \"Sierra Leone\"\n        ],\n        \"semantic_type\": \"\",\n        \"description\": \"\"\n      }\n    },\n    {\n      \"column\": \"Population -2020\",\n      \"properties\": {\n        \"dtype\": \"number\",\n        \"std\": 150494590,\n        \"min\": 801,\n        \"max\": 1439323776,\n        \"num_unique_values\": 195,\n        \"samples\": [\n          109581078,\n          11589623,\n          7976983\n        ],\n        \"semantic_type\": \"\",\n        \"description\": \"\"\n      }\n    },\n    {\n      \"column\": \"Land Area (Km\\u00b2)\",\n      \"properties\": {\n        \"dtype\": \"number\",\n        \"std\": 1807424.6900064405,\n        \"min\": 0.0,\n        \"max\": 16376870.0,\n        \"num_unique_values\": 193,\n        \"samples\": [\n          2267050.0,\n          1280000.0,\n          100250.0\n        ],\n        \"semantic_type\": \"\",\n        \"description\": \"\"\n      }\n    },\n    {\n      \"column\": \"Density (P/Km\\u00b2)\",\n      \"properties\": {\n        \"dtype\": \"number\",\n        \"std\": 2013,\n        \"min\": 2,\n        \"max\": 26337,\n        \"num_unique_values\": 136,\n        \"samples\": [\n          400,\n          71,\n          331\n        ],\n        \"semantic_type\": \"\",\n        \"description\": \"\"\n      }\n    }\n  ]\n}"
            }
          },
          "metadata": {},
          "execution_count": 9
        }
      ],
      "source": [
        "train.head()"
      ]
    },
    {
      "cell_type": "code",
      "execution_count": 10,
      "metadata": {
        "id": "VDYJ079XHyON"
      },
      "outputs": [],
      "source": [
        "train.dropna(inplace=True)\n",
        "test.dropna(inplace=True)\n",
        "train.drop_duplicates(inplace=True)\n",
        "test.drop_duplicates(inplace=True)"
      ]
    },
    {
      "cell_type": "code",
      "execution_count": 11,
      "metadata": {
        "colab": {
          "base_uri": "https://localhost:8080/",
          "height": 452
        },
        "id": "ToFIe7OflpI1",
        "outputId": "4831e0be-b33b-4caf-a89d-d317781bb1db"
      },
      "outputs": [
        {
          "output_type": "display_data",
          "data": {
            "text/plain": [
              "<Figure size 640x480 with 1 Axes>"
            ],
            "image/png": "[encoded data removed]"
          },
          "metadata": {}
        }
      ],
      "source": [
        "sentiment_counts = train['sentiment'].value_counts()\n",
        "\n",
        "ranks = np.argsort(np.argsort(sentiment_counts.values))\n",
        "colors = plt.cm.magma (ranks / max(ranks))\n",
        "\n",
        "plt.bar(sentiment_counts.index, sentiment_counts.values, color=colors)\n",
        "plt.ylabel(\"Count\")\n",
        "plt.title(\"Sentiment Distribution in Training Data\")\n",
        "plt.show()"
      ]
    },
    {
      "cell_type": "markdown",
      "metadata": {
        "id": "jesfw8Nvg9Es"
      },
      "source": [
        "Use only text and sentiment columns"
      ]
    },
    {
      "cell_type": "code",
      "execution_count": 12,
      "metadata": {
        "id": "bU86jAy5Q75K"
      },
      "outputs": [],
      "source": [
        "col = ['text', 'sentiment']\n",
        "\n",
        "train_df = train[col]\n",
        "test_df = test[col]"
      ]
    },
    {
      "cell_type": "markdown",
      "metadata": {
        "id": "5W7Az_vjkync"
      },
      "source": [
        "## Prepare Sentiment Labels"
      ]
    },
    {
      "cell_type": "code",
      "execution_count": 13,
      "metadata": {
        "id": "V_csufnck1Da"
      },
      "outputs": [],
      "source": [
        "sentiment_to_index = {\n",
        "    'negative': 0,\n",
        "    'neutral': 1,\n",
        "    'positive': 2\n",
        "  }\n",
        "\n",
        "train_df.loc[:, 'sentiment'] = train_df['sentiment'].map(sentiment_to_index)\n",
        "test_df.loc[:, 'sentiment'] = test_df['sentiment'].map(sentiment_to_index)"
      ]
    },
    {
      "cell_type": "code",
      "execution_count": 14,
      "metadata": {
        "colab": {
          "base_uri": "https://localhost:8080/",
          "height": 206
        },
        "id": "kbr8rfe9lmDm",
        "outputId": "4839dcec-8f99-41f6-fe54-ff297f17a22c"
      },
      "outputs": [
        {
          "output_type": "execute_result",
          "data": {
            "text/plain": [
              "                                                text sentiment\n",
              "0                I`d have responded, if I were going         1\n",
              "1      Sooo SAD I will miss you here in San Diego!!!         0\n",
              "2                          my boss is bullying me...         0\n",
              "3                     what interview! leave me alone         0\n",
              "4   Sons of ****, why couldn`t they put them on t...         0"
            ],
            "text/html": [
              "\n",
              "  <div id=\"df-e483dc97-e1df-4002-b6a6-5fea8c456d2a\" class=\"colab-df-container\">\n",
              "    <div>\n",
              "<style scoped>\n",
              "    .dataframe tbody tr th:only-of-type {\n",
              "        vertical-align: middle;\n",
              "    }\n",
              "\n",
              "    .dataframe tbody tr th {\n",
              "        vertical-align: top;\n",
              "    }\n",
              "\n",
              "    .dataframe thead th {\n",
              "        text-align: right;\n",
              "    }\n",
              "</style>\n",
              "<table border=\"1\" class=\"dataframe\">\n",
              "  <thead>\n",
              "    <tr style=\"text-align: right;\">\n",
              "      <th></th>\n",
              "      <th>text</th>\n",
              "      <th>sentiment</th>\n",
              "    </tr>\n",
              "  </thead>\n",
              "  <tbody>\n",
              "    <tr>\n",
              "      <th>0</th>\n",
              "      <td>I`d have responded, if I were going</td>\n",
              "      <td>1</td>\n",
              "    </tr>\n",
              "    <tr>\n",
              "      <th>1</th>\n",
              "      <td>Sooo SAD I will miss you here in San Diego!!!</td>\n",
              "      <td>0</td>\n",
              "    </tr>\n",
              "    <tr>\n",
              "      <th>2</th>\n",
              "      <td>my boss is bullying me...</td>\n",
              "      <td>0</td>\n",
              "    </tr>\n",
              "    <tr>\n",
              "      <th>3</th>\n",
              "      <td>what interview! leave me alone</td>\n",
              "      <td>0</td>\n",
              "    </tr>\n",
              "    <tr>\n",
              "      <th>4</th>\n",
              "      <td>Sons of ****, why couldn`t they put them on t...</td>\n",
              "      <td>0</td>\n",
              "    </tr>\n",
              "  </tbody>\n",
              "</table>\n",
              "</div>\n",
              "    <div class=\"colab-df-buttons\">\n",
              "\n",
              "  <div class=\"colab-df-container\">\n",
              "    <button class=\"colab-df-convert\" onclick=\"convertToInteractive('df-e483dc97-e1df-4002-b6a6-5fea8c456d2a')\"\n",
              "            title=\"Convert this dataframe to an interactive table.\"\n",
              "            style=\"display:none;\">\n",
              "\n",
              "  <svg xmlns=\"http://www.w3.org/2000/svg\" height=\"24px\" viewBox=\"0 -960 960 960\">\n",
              "    <path d=\"M120-120v-720h720v720H120Zm60-500h600v-160H180v160Zm220 220h160v-160H400v160Zm0 220h160v-160H400v160ZM180-400h160v-160H180v160Zm440 0h160v-160H620v160ZM180-180h160v-160H180v160Zm440 0h160v-160H620v160Z\"/>\n",
              "  </svg>\n",
              "    </button>\n",
              "\n",
              "  <style>\n",
              "    .colab-df-container {\n",
              "      display:flex;\n",
              "      gap: 12px;\n",
              "    }\n",
              "\n",
              "    .colab-df-convert {\n",
              "      background-color: #E8F0FE;\n",
              "      border: none;\n",
              "      border-radius: 50%;\n",
              "      cursor: pointer;\n",
              "      display: none;\n",
              "      fill: #1967D2;\n",
              "      height: 32px;\n",
              "      padding: 0 0 0 0;\n",
              "      width: 32px;\n",
              "    }\n",
              "\n",
              "    .colab-df-convert:hover {\n",
              "      background-color: #E2EBFA;\n",
              "      box-shadow: 0px 1px 2px rgba(60, 64, 67, 0.3), 0px 1px 3px 1px rgba(60, 64, 67, 0.15);\n",
              "      fill: #174EA6;\n",
              "    }\n",
              "\n",
              "    .colab-df-buttons div {\n",
              "      margin-bottom: 4px;\n",
              "    }\n",
              "\n",
              "    [theme=dark] .colab-df-convert {\n",
              "      background-color: #3B4455;\n",
              "      fill: #D2E3FC;\n",
              "    }\n",
              "\n",
              "    [theme=dark] .colab-df-convert:hover {\n",
              "      background-color: #434B5C;\n",
              "      box-shadow: 0px 1px 3px 1px rgba(0, 0, 0, 0.15);\n",
              "      filter: drop-shadow(0px 1px 2px rgba(0, 0, 0, 0.3));\n",
              "      fill: #FFFFFF;\n",
              "    }\n",
              "  </style>\n",
              "\n",
              "    <script>\n",
              "      const buttonEl =\n",
              "        document.querySelector('#df-e483dc97-e1df-4002-b6a6-5fea8c456d2a button.colab-df-convert');\n",
              "      buttonEl.style.display =\n",
              "        google.colab.kernel.accessAllowed ? 'block' : 'none';\n",
              "\n",
              "      async function convertToInteractive(key) {\n",
              "        const element = document.querySelector('#df-e483dc97-e1df-4002-b6a6-5fea8c456d2a');\n",
              "        const dataTable =\n",
              "          await google.colab.kernel.invokeFunction('convertToInteractive',\n",
              "                                                    [key], {});\n",
              "        if (!dataTable) return;\n",
              "\n",
              "        const docLinkHtml = 'Like what you see? Visit the ' +\n",
              "          '<a target=\"_blank\" href=https://colab.research.google.com/notebooks/data_table.ipynb>data table notebook</a>'\n",
              "          + ' to learn more about interactive tables.';\n",
              "        element.innerHTML = '';\n",
              "        dataTable['output_type'] = 'display_data';\n",
              "        await google.colab.output.renderOutput(dataTable, element);\n",
              "        const docLink = document.createElement('div');\n",
              "        docLink.innerHTML = docLinkHtml;\n",
              "        element.appendChild(docLink);\n",
              "      }\n",
              "    </script>\n",
              "  </div>\n",
              "\n",
              "\n",
              "<div id=\"df-69913cdf-93f0-4907-bd11-5eb61c07a19c\">\n",
              "  <button class=\"colab-df-quickchart\" onclick=\"quickchart('df-69913cdf-93f0-4907-bd11-5eb61c07a19c')\"\n",
              "            title=\"Suggest charts\"\n",
              "            style=\"display:none;\">\n",
              "\n",
              "<svg xmlns=\"http://www.w3.org/2000/svg\" height=\"24px\"viewBox=\"0 0 24 24\"\n",
              "     width=\"24px\">\n",
              "    <g>\n",
              "        <path d=\"M19 3H5c-1.1 0-2 .9-2 2v14c0 1.1.9 2 2 2h14c1.1 0 2-.9 2-2V5c0-1.1-.9-2-2-2zM9 17H7v-7h2v7zm4 0h-2V7h2v10zm4 0h-2v-4h2v4z\"/>\n",
              "    </g>\n",
              "</svg>\n",
              "  </button>\n",
              "\n",
              "<style>\n",
              "  .colab-df-quickchart {\n",
              "      --bg-color: #E8F0FE;\n",
              "      --fill-color: #1967D2;\n",
              "      --hover-bg-color: #E2EBFA;\n",
              "      --hover-fill-color: #174EA6;\n",
              "      --disabled-fill-color: #AAA;\n",
              "      --disabled-bg-color: #DDD;\n",
              "  }\n",
              "\n",
              "  [theme=dark] .colab-df-quickchart {\n",
              "      --bg-color: #3B4455;\n",
              "      --fill-color: #D2E3FC;\n",
              "      --hover-bg-color: #434B5C;\n",
              "      --hover-fill-color: #FFFFFF;\n",
              "      --disabled-bg-color: #3B4455;\n",
              "      --disabled-fill-color: #666;\n",
              "  }\n",
              "\n",
              "  .colab-df-quickchart {\n",
              "    background-color: var(--bg-color);\n",
              "    border: none;\n",
              "    border-radius: 50%;\n",
              "    cursor: pointer;\n",
              "    display: none;\n",
              "    fill: var(--fill-color);\n",
              "    height: 32px;\n",
              "    padding: 0;\n",
              "    width: 32px;\n",
              "  }\n",
              "\n",
              "  .colab-df-quickchart:hover {\n",
              "    background-color: var(--hover-bg-color);\n",
              "    box-shadow: 0 1px 2px rgba(60, 64, 67, 0.3), 0 1px 3px 1px rgba(60, 64, 67, 0.15);\n",
              "    fill: var(--button-hover-fill-color);\n",
              "  }\n",
              "\n",
              "  .colab-df-quickchart-complete:disabled,\n",
              "  .colab-df-quickchart-complete:disabled:hover {\n",
              "    background-color: var(--disabled-bg-color);\n",
              "    fill: var(--disabled-fill-color);\n",
              "    box-shadow: none;\n",
              "  }\n",
              "\n",
              "  .colab-df-spinner {\n",
              "    border: 2px solid var(--fill-color);\n",
              "    border-color: transparent;\n",
              "    border-bottom-color: var(--fill-color);\n",
              "    animation:\n",
              "      spin 1s steps(1) infinite;\n",
              "  }\n",
              "\n",
              "  @keyframes spin {\n",
              "    0% {\n",
              "      border-color: transparent;\n",
              "      border-bottom-color: var(--fill-color);\n",
              "      border-left-color: var(--fill-color);\n",
              "    }\n",
              "    20% {\n",
              "      border-color: transparent;\n",
              "      border-left-color: var(--fill-color);\n",
              "      border-top-color: var(--fill-color);\n",
              "    }\n",
              "    30% {\n",
              "      border-color: transparent;\n",
              "      border-left-color: var(--fill-color);\n",
              "      border-top-color: var(--fill-color);\n",
              "      border-right-color: var(--fill-color);\n",
              "    }\n",
              "    40% {\n",
              "      border-color: transparent;\n",
              "      border-right-color: var(--fill-color);\n",
              "      border-top-color: var(--fill-color);\n",
              "    }\n",
              "    60% {\n",
              "      border-color: transparent;\n",
              "      border-right-color: var(--fill-color);\n",
              "    }\n",
              "    80% {\n",
              "      border-color: transparent;\n",
              "      border-right-color: var(--fill-color);\n",
              "      border-bottom-color: var(--fill-color);\n",
              "    }\n",
              "    90% {\n",
              "      border-color: transparent;\n",
              "      border-bottom-color: var(--fill-color);\n",
              "    }\n",
              "  }\n",
              "</style>\n",
              "\n",
              "  <script>\n",
              "    async function quickchart(key) {\n",
              "      const quickchartButtonEl =\n",
              "        document.querySelector('#' + key + ' button');\n",
              "      quickchartButtonEl.disabled = true;  // To prevent multiple clicks.\n",
              "      quickchartButtonEl.classList.add('colab-df-spinner');\n",
              "      try {\n",
              "        const charts = await google.colab.kernel.invokeFunction(\n",
              "            'suggestCharts', [key], {});\n",
              "      } catch (error) {\n",
              "        console.error('Error during call to suggestCharts:', error);\n",
              "      }\n",
              "      quickchartButtonEl.classList.remove('colab-df-spinner');\n",
              "      quickchartButtonEl.classList.add('colab-df-quickchart-complete');\n",
              "    }\n",
              "    (() => {\n",
              "      let quickchartButtonEl =\n",
              "        document.querySelector('#df-69913cdf-93f0-4907-bd11-5eb61c07a19c button');\n",
              "      quickchartButtonEl.style.display =\n",
              "        google.colab.kernel.accessAllowed ? 'block' : 'none';\n",
              "    })();\n",
              "  </script>\n",
              "</div>\n",
              "\n",
              "    </div>\n",
              "  </div>\n"
            ],
            "application/vnd.google.colaboratory.intrinsic+json": {
              "type": "dataframe",
              "variable_name": "train_df",
              "summary": "{\n  \"name\": \"train_df\",\n  \"rows\": 27480,\n  \"fields\": [\n    {\n      \"column\": \"text\",\n      \"properties\": {\n        \"dtype\": \"string\",\n        \"num_unique_values\": 27480,\n        \"samples\": [\n          \" Enjoy! Family trumps everything\",\n          \" --of them kinda turns me off of it all.  And then I buy more of them and dig a deeper hole, etc. ;;\",\n          \"Clive it`s my birthday pat me  http://apps.facebook.com/dogbook/profile/view/6386106\"\n        ],\n        \"semantic_type\": \"\",\n        \"description\": \"\"\n      }\n    },\n    {\n      \"column\": \"sentiment\",\n      \"properties\": {\n        \"dtype\": \"date\",\n        \"min\": 0,\n        \"max\": 2,\n        \"num_unique_values\": 3,\n        \"samples\": [\n          1,\n          0,\n          2\n        ],\n        \"semantic_type\": \"\",\n        \"description\": \"\"\n      }\n    }\n  ]\n}"
            }
          },
          "metadata": {},
          "execution_count": 14
        }
      ],
      "source": [
        "train_df.head()"
      ]
    },
    {
      "cell_type": "markdown",
      "metadata": {
        "id": "CTLbCTklk2Dq"
      },
      "source": [
        "## Prepare Text Data"
      ]
    },
    {
      "cell_type": "markdown",
      "metadata": {
        "id": "cZma6D9kgpv0"
      },
      "source": [
        "### Adjust Words based on REGEX"
      ]
    },
    {
      "cell_type": "code",
      "execution_count": 15,
      "metadata": {
        "id": "E3NaqQkmfzt4"
      },
      "outputs": [],
      "source": [
        "def remove_special_character(text):\n",
        "    text=re.sub('<.*?>', ' ', text)\n",
        "    text=re.sub('<.*>','',text)\n",
        "    text=re.sub('http\\S+|https\\S+|www\\S+','',text)\n",
        "    text=re.sub('@\\S+|#\\S+','',text)\n",
        "    # Keep apostrophes only if inside words (like \"I'm\", \"don't\")\n",
        "    text = re.sub('`', \"'\",  text)\n",
        "    text = re.sub(r\"[^\\w\\s']\", '', text)\n",
        "    return text"
      ]
    },
    {
      "cell_type": "code",
      "execution_count": 16,
      "metadata": {
        "id": "mev_x9aSgUGf"
      },
      "outputs": [],
      "source": [
        "import contractions\n",
        "\n",
        "# couldn't -> could not\n",
        "def expand_contractions(text):\n",
        "    text = contractions.fix(text)\n",
        "    return text"
      ]
    },
    {
      "cell_type": "code",
      "execution_count": 17,
      "metadata": {
        "id": "--We00ZZft9h"
      },
      "outputs": [],
      "source": [
        "train_df.loc[:, 'text'] = train_df['text'].str.lower().str.strip().apply(remove_special_character).apply(expand_contractions)\n",
        "test_df.loc[:, 'text'] = test_df['text'].str.lower().str.strip().apply(remove_special_character).apply(expand_contractions)"
      ]
    },
    {
      "cell_type": "code",
      "execution_count": 18,
      "metadata": {
        "colab": {
          "base_uri": "https://localhost:8080/",
          "height": 206
        },
        "id": "s70ZPTpTiO0u",
        "outputId": "1808c79c-2f97-4b3b-ca28-fea3368271f7"
      },
      "outputs": [
        {
          "output_type": "execute_result",
          "data": {
            "text/plain": [
              "                                                text sentiment\n",
              "0             i would have responded if i were going         1\n",
              "1         sooo sad i will miss you here in san diego         0\n",
              "2                             my boss is bullying me         0\n",
              "3                      what interview leave me alone         0\n",
              "4  sons of  why could not they put them on the re...         0"
            ],
            "text/html": [
              "\n",
              "  <div id=\"df-f8444e0f-5c9f-4931-ac23-e0691b6fdcc1\" class=\"colab-df-container\">\n",
              "    <div>\n",
              "<style scoped>\n",
              "    .dataframe tbody tr th:only-of-type {\n",
              "        vertical-align: middle;\n",
              "    }\n",
              "\n",
              "    .dataframe tbody tr th {\n",
              "        vertical-align: top;\n",
              "    }\n",
              "\n",
              "    .dataframe thead th {\n",
              "        text-align: right;\n",
              "    }\n",
              "</style>\n",
              "<table border=\"1\" class=\"dataframe\">\n",
              "  <thead>\n",
              "    <tr style=\"text-align: right;\">\n",
              "      <th></th>\n",
              "      <th>text</th>\n",
              "      <th>sentiment</th>\n",
              "    </tr>\n",
              "  </thead>\n",
              "  <tbody>\n",
              "    <tr>\n",
              "      <th>0</th>\n",
              "      <td>i would have responded if i were going</td>\n",
              "      <td>1</td>\n",
              "    </tr>\n",
              "    <tr>\n",
              "      <th>1</th>\n",
              "      <td>sooo sad i will miss you here in san diego</td>\n",
              "      <td>0</td>\n",
              "    </tr>\n",
              "    <tr>\n",
              "      <th>2</th>\n",
              "      <td>my boss is bullying me</td>\n",
              "      <td>0</td>\n",
              "    </tr>\n",
              "    <tr>\n",
              "      <th>3</th>\n",
              "      <td>what interview leave me alone</td>\n",
              "      <td>0</td>\n",
              "    </tr>\n",
              "    <tr>\n",
              "      <th>4</th>\n",
              "      <td>sons of  why could not they put them on the re...</td>\n",
              "      <td>0</td>\n",
              "    </tr>\n",
              "  </tbody>\n",
              "</table>\n",
              "</div>\n",
              "    <div class=\"colab-df-buttons\">\n",
              "\n",
              "  <div class=\"colab-df-container\">\n",
              "    <button class=\"colab-df-convert\" onclick=\"convertToInteractive('df-f8444e0f-5c9f-4931-ac23-e0691b6fdcc1')\"\n",
              "            title=\"Convert this dataframe to an interactive table.\"\n",
              "            style=\"display:none;\">\n",
              "\n",
              "  <svg xmlns=\"http://www.w3.org/2000/svg\" height=\"24px\" viewBox=\"0 -960 960 960\">\n",
              "    <path d=\"M120-120v-720h720v720H120Zm60-500h600v-160H180v160Zm220 220h160v-160H400v160Zm0 220h160v-160H400v160ZM180-400h160v-160H180v160Zm440 0h160v-160H620v160ZM180-180h160v-160H180v160Zm440 0h160v-160H620v160Z\"/>\n",
              "  </svg>\n",
              "    </button>\n",
              "\n",
              "  <style>\n",
              "    .colab-df-container {\n",
              "      display:flex;\n",
              "      gap: 12px;\n",
              "    }\n",
              "\n",
              "    .colab-df-convert {\n",
              "      background-color: #E8F0FE;\n",
              "      border: none;\n",
              "      border-radius: 50%;\n",
              "      cursor: pointer;\n",
              "      display: none;\n",
              "      fill: #1967D2;\n",
              "      height: 32px;\n",
              "      padding: 0 0 0 0;\n",
              "      width: 32px;\n",
              "    }\n",
              "\n",
              "    .colab-df-convert:hover {\n",
              "      background-color: #E2EBFA;\n",
              "      box-shadow: 0px 1px 2px rgba(60, 64, 67, 0.3), 0px 1px 3px 1px rgba(60, 64, 67, 0.15);\n",
              "      fill: #174EA6;\n",
              "    }\n",
              "\n",
              "    .colab-df-buttons div {\n",
              "      margin-bottom: 4px;\n",
              "    }\n",
              "\n",
              "    [theme=dark] .colab-df-convert {\n",
              "      background-color: #3B4455;\n",
              "      fill: #D2E3FC;\n",
              "    }\n",
              "\n",
              "    [theme=dark] .colab-df-convert:hover {\n",
              "      background-color: #434B5C;\n",
              "      box-shadow: 0px 1px 3px 1px rgba(0, 0, 0, 0.15);\n",
              "      filter: drop-shadow(0px 1px 2px rgba(0, 0, 0, 0.3));\n",
              "      fill: #FFFFFF;\n",
              "    }\n",
              "  </style>\n",
              "\n",
              "    <script>\n",
              "      const buttonEl =\n",
              "        document.querySelector('#df-f8444e0f-5c9f-4931-ac23-e0691b6fdcc1 button.colab-df-convert');\n",
              "      buttonEl.style.display =\n",
              "        google.colab.kernel.accessAllowed ? 'block' : 'none';\n",
              "\n",
              "      async function convertToInteractive(key) {\n",
              "        const element = document.querySelector('#df-f8444e0f-5c9f-4931-ac23-e0691b6fdcc1');\n",
              "        const dataTable =\n",
              "          await google.colab.kernel.invokeFunction('convertToInteractive',\n",
              "                                                    [key], {});\n",
              "        if (!dataTable) return;\n",
              "\n",
              "        const docLinkHtml = 'Like what you see? Visit the ' +\n",
              "          '<a target=\"_blank\" href=https://colab.research.google.com/notebooks/data_table.ipynb>data table notebook</a>'\n",
              "          + ' to learn more about interactive tables.';\n",
              "        element.innerHTML = '';\n",
              "        dataTable['output_type'] = 'display_data';\n",
              "        await google.colab.output.renderOutput(dataTable, element);\n",
              "        const docLink = document.createElement('div');\n",
              "        docLink.innerHTML = docLinkHtml;\n",
              "        element.appendChild(docLink);\n",
              "      }\n",
              "    </script>\n",
              "  </div>\n",
              "\n",
              "\n",
              "<div id=\"df-d759b380-691f-4736-bc7f-023c64769dd6\">\n",
              "  <button class=\"colab-df-quickchart\" onclick=\"quickchart('df-d759b380-691f-4736-bc7f-023c64769dd6')\"\n",
              "            title=\"Suggest charts\"\n",
              "            style=\"display:none;\">\n",
              "\n",
              "<svg xmlns=\"http://www.w3.org/2000/svg\" height=\"24px\"viewBox=\"0 0 24 24\"\n",
              "     width=\"24px\">\n",
              "    <g>\n",
              "        <path d=\"M19 3H5c-1.1 0-2 .9-2 2v14c0 1.1.9 2 2 2h14c1.1 0 2-.9 2-2V5c0-1.1-.9-2-2-2zM9 17H7v-7h2v7zm4 0h-2V7h2v10zm4 0h-2v-4h2v4z\"/>\n",
              "    </g>\n",
              "</svg>\n",
              "  </button>\n",
              "\n",
              "<style>\n",
              "  .colab-df-quickchart {\n",
              "      --bg-color: #E8F0FE;\n",
              "      --fill-color: #1967D2;\n",
              "      --hover-bg-color: #E2EBFA;\n",
              "      --hover-fill-color: #174EA6;\n",
              "      --disabled-fill-color: #AAA;\n",
              "      --disabled-bg-color: #DDD;\n",
              "  }\n",
              "\n",
              "  [theme=dark] .colab-df-quickchart {\n",
              "      --bg-color: #3B4455;\n",
              "      --fill-color: #D2E3FC;\n",
              "      --hover-bg-color: #434B5C;\n",
              "      --hover-fill-color: #FFFFFF;\n",
              "      --disabled-bg-color: #3B4455;\n",
              "      --disabled-fill-color: #666;\n",
              "  }\n",
              "\n",
              "  .colab-df-quickchart {\n",
              "    background-color: var(--bg-color);\n",
              "    border: none;\n",
              "    border-radius: 50%;\n",
              "    cursor: pointer;\n",
              "    display: none;\n",
              "    fill: var(--fill-color);\n",
              "    height: 32px;\n",
              "    padding: 0;\n",
              "    width: 32px;\n",
              "  }\n",
              "\n",
              "  .colab-df-quickchart:hover {\n",
              "    background-color: var(--hover-bg-color);\n",
              "    box-shadow: 0 1px 2px rgba(60, 64, 67, 0.3), 0 1px 3px 1px rgba(60, 64, 67, 0.15);\n",
              "    fill: var(--button-hover-fill-color);\n",
              "  }\n",
              "\n",
              "  .colab-df-quickchart-complete:disabled,\n",
              "  .colab-df-quickchart-complete:disabled:hover {\n",
              "    background-color: var(--disabled-bg-color);\n",
              "    fill: var(--disabled-fill-color);\n",
              "    box-shadow: none;\n",
              "  }\n",
              "\n",
              "  .colab-df-spinner {\n",
              "    border: 2px solid var(--fill-color);\n",
              "    border-color: transparent;\n",
              "    border-bottom-color: var(--fill-color);\n",
              "    animation:\n",
              "      spin 1s steps(1) infinite;\n",
              "  }\n",
              "\n",
              "  @keyframes spin {\n",
              "    0% {\n",
              "      border-color: transparent;\n",
              "      border-bottom-color: var(--fill-color);\n",
              "      border-left-color: var(--fill-color);\n",
              "    }\n",
              "    20% {\n",
              "      border-color: transparent;\n",
              "      border-left-color: var(--fill-color);\n",
              "      border-top-color: var(--fill-color);\n",
              "    }\n",
              "    30% {\n",
              "      border-color: transparent;\n",
              "      border-left-color: var(--fill-color);\n",
              "      border-top-color: var(--fill-color);\n",
              "      border-right-color: var(--fill-color);\n",
              "    }\n",
              "    40% {\n",
              "      border-color: transparent;\n",
              "      border-right-color: var(--fill-color);\n",
              "      border-top-color: var(--fill-color);\n",
              "    }\n",
              "    60% {\n",
              "      border-color: transparent;\n",
              "      border-right-color: var(--fill-color);\n",
              "    }\n",
              "    80% {\n",
              "      border-color: transparent;\n",
              "      border-right-color: var(--fill-color);\n",
              "      border-bottom-color: var(--fill-color);\n",
              "    }\n",
              "    90% {\n",
              "      border-color: transparent;\n",
              "      border-bottom-color: var(--fill-color);\n",
              "    }\n",
              "  }\n",
              "</style>\n",
              "\n",
              "  <script>\n",
              "    async function quickchart(key) {\n",
              "      const quickchartButtonEl =\n",
              "        document.querySelector('#' + key + ' button');\n",
              "      quickchartButtonEl.disabled = true;  // To prevent multiple clicks.\n",
              "      quickchartButtonEl.classList.add('colab-df-spinner');\n",
              "      try {\n",
              "        const charts = await google.colab.kernel.invokeFunction(\n",
              "            'suggestCharts', [key], {});\n",
              "      } catch (error) {\n",
              "        console.error('Error during call to suggestCharts:', error);\n",
              "      }\n",
              "      quickchartButtonEl.classList.remove('colab-df-spinner');\n",
              "      quickchartButtonEl.classList.add('colab-df-quickchart-complete');\n",
              "    }\n",
              "    (() => {\n",
              "      let quickchartButtonEl =\n",
              "        document.querySelector('#df-d759b380-691f-4736-bc7f-023c64769dd6 button');\n",
              "      quickchartButtonEl.style.display =\n",
              "        google.colab.kernel.accessAllowed ? 'block' : 'none';\n",
              "    })();\n",
              "  </script>\n",
              "</div>\n",
              "\n",
              "    </div>\n",
              "  </div>\n"
            ],
            "application/vnd.google.colaboratory.intrinsic+json": {
              "type": "dataframe",
              "variable_name": "train_df",
              "summary": "{\n  \"name\": \"train_df\",\n  \"rows\": 27480,\n  \"fields\": [\n    {\n      \"column\": \"text\",\n      \"properties\": {\n        \"dtype\": \"string\",\n        \"num_unique_values\": 27268,\n        \"samples\": [\n          \"may the fourth be with you  oh come on no one had actually spelled it out yet\",\n          \"to my pretty lady  happy mother's day she is the mother of my future soninlaws\",\n          \"so far so good it is still early though\"\n        ],\n        \"semantic_type\": \"\",\n        \"description\": \"\"\n      }\n    },\n    {\n      \"column\": \"sentiment\",\n      \"properties\": {\n        \"dtype\": \"date\",\n        \"min\": 0,\n        \"max\": 2,\n        \"num_unique_values\": 3,\n        \"samples\": [\n          1,\n          0,\n          2\n        ],\n        \"semantic_type\": \"\",\n        \"description\": \"\"\n      }\n    }\n  ]\n}"
            }
          },
          "metadata": {},
          "execution_count": 18
        }
      ],
      "source": [
        "train_df.head()"
      ]
    },
    {
      "cell_type": "markdown",
      "metadata": {
        "id": "0pfEPwU8fUJD"
      },
      "source": [
        "### Tokenize"
      ]
    },
    {
      "cell_type": "code",
      "execution_count": 19,
      "metadata": {
        "id": "prMfFQIsec6y"
      },
      "outputs": [],
      "source": [
        "train_data = []\n",
        "\n",
        "for _, row in train_df.iterrows():\n",
        "    text = row[\"text\"]\n",
        "    tokens = word_tokenize(text)\n",
        "    train_data.append([row[\"sentiment\"], tokens])"
      ]
    },
    {
      "cell_type": "code",
      "execution_count": 20,
      "metadata": {
        "colab": {
          "base_uri": "https://localhost:8080/"
        },
        "id": "FWhRr7PWevwh",
        "outputId": "28115054-083f-4984-c34c-be1396dbddba"
      },
      "outputs": [
        {
          "output_type": "execute_result",
          "data": {
            "text/plain": [
              "[[1, ['i', 'would', 'have', 'responded', 'if', 'i', 'were', 'going']],\n",
              " [0,\n",
              "  ['sooo', 'sad', 'i', 'will', 'miss', 'you', 'here', 'in', 'san', 'diego']],\n",
              " [0, ['my', 'boss', 'is', 'bullying', 'me']]]"
            ]
          },
          "metadata": {},
          "execution_count": 20
        }
      ],
      "source": [
        "train_data[:3]"
      ]
    },
    {
      "cell_type": "code",
      "execution_count": 21,
      "metadata": {
        "id": "Mwrmx6ymza8r"
      },
      "outputs": [],
      "source": [
        "test_data = []\n",
        "\n",
        "for _, row in test_df.iterrows():\n",
        "    text = row[\"text\"]\n",
        "    tokens = word_tokenize(text)\n",
        "    test_data.append([row[\"sentiment\"], tokens])"
      ]
    },
    {
      "cell_type": "code",
      "execution_count": 22,
      "metadata": {
        "colab": {
          "base_uri": "https://localhost:8080/"
        },
        "id": "hVUjLEbazcpu",
        "outputId": "34a6d491-1f37-4a65-82d6-8b0a03dccc37"
      },
      "outputs": [
        {
          "output_type": "execute_result",
          "data": {
            "text/plain": [
              "[[1, ['last', 'session', 'of', 'the', 'day']],\n",
              " [2,\n",
              "  ['shanghai',\n",
              "   'is',\n",
              "   'also',\n",
              "   'really',\n",
              "   'exciting',\n",
              "   'precisely',\n",
              "   'skyscrapers',\n",
              "   'galore',\n",
              "   'good',\n",
              "   'tweeps',\n",
              "   'in',\n",
              "   'china',\n",
              "   'sh',\n",
              "   'bj']],\n",
              " [0,\n",
              "  ['recession',\n",
              "   'hit',\n",
              "   'veronique',\n",
              "   'branquinho',\n",
              "   'she',\n",
              "   'has',\n",
              "   'to',\n",
              "   'quit',\n",
              "   'her',\n",
              "   'company',\n",
              "   'such',\n",
              "   'a',\n",
              "   'shame']]]"
            ]
          },
          "metadata": {},
          "execution_count": 22
        }
      ],
      "source": [
        "test_data[:3]"
      ]
    },
    {
      "cell_type": "markdown",
      "metadata": {
        "id": "ab4LofisQjrY"
      },
      "source": [
        "### Remove stop words and Apply Lemmatizer"
      ]
    },
    {
      "cell_type": "code",
      "execution_count": 23,
      "metadata": {
        "colab": {
          "base_uri": "https://localhost:8080/"
        },
        "id": "Hpzz8zStAJ8r",
        "outputId": "e441514a-609d-48bc-caf9-fc769805d80d"
      },
      "outputs": [
        {
          "output_type": "stream",
          "name": "stderr",
          "text": [
            "[nltk_data] Downloading package stopwords to /root/nltk_data...\n",
            "[nltk_data]   Unzipping corpora/stopwords.zip.\n"
          ]
        }
      ],
      "source": [
        "from nltk.corpus import stopwords\n",
        "nltk.download('stopwords')\n",
        "import spacy\n",
        "\n",
        "nlp = spacy.load('en_core_web_sm')\n",
        "stop_words = set(stopwords.words(\"english\"))\n",
        "\n",
        "def preprocess_tokens(tokens):\n",
        "    processed_tokens = []\n",
        "    for token_list in tokens:\n",
        "        label, words = token_list[0], token_list[1]\n",
        "        filtered_words = [word for word in words if word not in stop_words]  # Remove stopwords\n",
        "\n",
        "        lemmatized_words = []\n",
        "        for doc in nlp.pipe(filtered_words, disable=[\"parser\", \"ner\"]):\n",
        "            lemmatized_words.append(doc[0].lemma_)\n",
        "\n",
        "        processed_tokens.append([label, lemmatized_words])\n",
        "    return processed_tokens"
      ]
    },
    {
      "cell_type": "code",
      "execution_count": 24,
      "metadata": {
        "colab": {
          "base_uri": "https://localhost:8080/"
        },
        "id": "PdhuTDz8AZHz",
        "outputId": "b182aeda-21c6-43a7-ae61-ab882a95e1b9"
      },
      "outputs": [
        {
          "output_type": "execute_result",
          "data": {
            "text/plain": [
              "[[1, ['would', 'respond', 'go']],\n",
              " [0, ['sooo', 'sad', 'miss', 'san', 'diego']],\n",
              " [0, ['boss', 'bully']],\n",
              " [0, ['interview', 'leave', 'alone']],\n",
              " [0, ['son', 'could', 'put', 'release', 'already', 'buy']]]"
            ]
          },
          "metadata": {},
          "execution_count": 24
        }
      ],
      "source": [
        "train_processed = preprocess_tokens(train_data)\n",
        "train_processed[:5]"
      ]
    },
    {
      "cell_type": "code",
      "execution_count": 25,
      "metadata": {
        "colab": {
          "base_uri": "https://localhost:8080/"
        },
        "id": "qTPD2cJpzWdt",
        "outputId": "60a3cf52-7110-47ba-969b-0cdb2e076be1"
      },
      "outputs": [
        {
          "output_type": "execute_result",
          "data": {
            "text/plain": [
              "[[1, ['last', 'session', 'day']],\n",
              " [2,\n",
              "  ['shanghai',\n",
              "   'also',\n",
              "   'really',\n",
              "   'exciting',\n",
              "   'precisely',\n",
              "   'skyscraper',\n",
              "   'galore',\n",
              "   'good',\n",
              "   'tweep',\n",
              "   'china',\n",
              "   'sh',\n",
              "   'bj']],\n",
              " [0,\n",
              "  ['recession', 'hit', 'veronique', 'branquinho', 'quit', 'company', 'shame']],\n",
              " [2, ['happy', 'birthday']],\n",
              " [2, ['like']]]"
            ]
          },
          "metadata": {},
          "execution_count": 25
        }
      ],
      "source": [
        "test_processed = preprocess_tokens(test_data)\n",
        "test_processed[:5]"
      ]
    },
    {
      "cell_type": "markdown",
      "source": [
        "### Prepare Dataset"
      ],
      "metadata": {
        "id": "KgBek8HVS4vV"
      }
    },
    {
      "cell_type": "markdown",
      "source": [
        "#### Training and Validation"
      ],
      "metadata": {
        "id": "yJxYByCzuAde"
      }
    },
    {
      "cell_type": "code",
      "source": [
        "train_text = [\" \".join(tokens) for _, tokens in train_processed]\n",
        "train_label = np.array([label for label, _ in train_processed])"
      ],
      "metadata": {
        "id": "QsKyMw-5qV6z"
      },
      "execution_count": 91,
      "outputs": []
    },
    {
      "cell_type": "code",
      "source": [
        "train_dataset = tf.data.Dataset.from_tensor_slices((train_text, train_label))\n",
        "\n",
        "# Shuffle the entire dataset\n",
        "train_dataset = train_dataset.shuffle(len(train_text), seed=42)\n",
        "\n",
        "train_ratio = 0.9\n",
        "total_size = len(train_text)\n",
        "train_size = int(train_ratio * total_size)\n",
        "\n",
        "train_data = train_dataset.take(train_size)\n",
        "val_data = train_dataset.skip(train_size)\n",
        "\n",
        "train_data = train_data.map(lambda x, y: (tf.squeeze(x), y)).batch(32).prefetch(tf.data.AUTOTUNE)\n",
        "val_data = val_data.map(lambda x, y: (tf.squeeze(x), y)).batch(1).prefetch(tf.data.AUTOTUNE)"
      ],
      "metadata": {
        "id": "lSTxOserRVO9"
      },
      "execution_count": 114,
      "outputs": []
    },
    {
      "cell_type": "markdown",
      "source": [
        "#### Get Vocab"
      ],
      "metadata": {
        "id": "lLO3nabD0bV-"
      }
    },
    {
      "cell_type": "code",
      "source": [
        "unique_words = set()\n",
        "\n",
        "for batch in train_data.as_numpy_iterator():\n",
        "    text_batch, _ = batch\n",
        "    for text in text_batch:\n",
        "        words = text.decode().split()  # Convert tensor to string and split into words\n",
        "        unique_words.update(words)\n",
        "\n",
        "print(f\"Vocabulary Size: {len(unique_words)}\")"
      ],
      "metadata": {
        "colab": {
          "base_uri": "https://localhost:8080/"
        },
        "id": "iR2hraPP0ayZ",
        "outputId": "c63f4802-bedc-49eb-8564-82035bd70a4c"
      },
      "execution_count": 115,
      "outputs": [
        {
          "output_type": "stream",
          "name": "stdout",
          "text": [
            "Vocabulary Size: 21281\n"
          ]
        }
      ]
    },
    {
      "cell_type": "markdown",
      "source": [
        "#### Testing"
      ],
      "metadata": {
        "id": "IZTWsnpIuEGh"
      }
    },
    {
      "cell_type": "code",
      "source": [
        "test_text = [\" \".join(tokens) for _, tokens in test_processed]\n",
        "test_label = np.array([label for label, _ in test_processed])"
      ],
      "metadata": {
        "id": "z2Dv6YxGZQDP"
      },
      "execution_count": 116,
      "outputs": []
    },
    {
      "cell_type": "code",
      "source": [
        "test_dataset = tf.data.Dataset.from_tensor_slices((test_text, test_label))\n",
        "test_data = test_dataset.shuffle(len(test_dataset)).batch(1)"
      ],
      "metadata": {
        "id": "FwHCCldCYmPs"
      },
      "execution_count": 138,
      "outputs": []
    },
    {
      "cell_type": "markdown",
      "source": [
        "## Data Prediction"
      ],
      "metadata": {
        "id": "I3Gfhzo4T8C0"
      }
    },
    {
      "cell_type": "markdown",
      "metadata": {
        "id": "01_rob-xkJfp"
      },
      "source": [
        "### Embed text"
      ]
    },
    {
      "cell_type": "code",
      "source": [
        "embedding_url = \"https://tfhub.dev/google/universal-sentence-encoder/4\"\n",
        "hub_layer = hub.KerasLayer(embedding_url, input_shape=[], dtype=tf.string, trainable=True)"
      ],
      "metadata": {
        "id": "TrQ2EexaQBo9"
      },
      "execution_count": 118,
      "outputs": []
    },
    {
      "cell_type": "markdown",
      "source": [
        "#### Example of how data is embedded"
      ],
      "metadata": {
        "id": "-OH7sPMqY-v_"
      }
    },
    {
      "cell_type": "code",
      "source": [
        "hub_layer(list(train_text[0][0]))"
      ],
      "metadata": {
        "colab": {
          "base_uri": "https://localhost:8080/"
        },
        "id": "1CfwXdsUOKey",
        "outputId": "57cb8960-e81c-4ccb-c643-584ace95bb06"
      },
      "execution_count": 119,
      "outputs": [
        {
          "output_type": "execute_result",
          "data": {
            "text/plain": [
              "<tf.Tensor: shape=(1, 512), dtype=float32, numpy=\n",
              "array([[ 0.01637652, -0.06412444,  0.02356639,  0.04981329, -0.01245286,\n",
              "         0.05542287, -0.02676301, -0.06290598,  0.03036505,  0.02712297,\n",
              "         0.03397579,  0.00921929,  0.05229079,  0.0359453 , -0.04130445,\n",
              "         0.03442498, -0.00624372,  0.07372443, -0.02496416,  0.0295514 ,\n",
              "         0.05830863, -0.06326255,  0.01544765,  0.02696955, -0.07032253,\n",
              "         0.02733462,  0.03314859, -0.0784882 ,  0.0681848 , -0.05367972,\n",
              "        -0.03451416,  0.05175044, -0.00985313, -0.04545433,  0.07754658,\n",
              "         0.03147165,  0.02733785,  0.05486463,  0.05701854, -0.06202932,\n",
              "         0.02414836,  0.06595074, -0.0344983 ,  0.00810417, -0.00910548,\n",
              "         0.06358559, -0.04650917, -0.00150456, -0.01968231, -0.03202097,\n",
              "        -0.0184195 ,  0.04648848,  0.0664885 ,  0.0728073 ,  0.05726986,\n",
              "         0.00617798, -0.01186068,  0.03731171,  0.0285284 , -0.00464502,\n",
              "         0.02787894, -0.07256187, -0.05963167, -0.01533609,  0.03894921,\n",
              "        -0.00105423, -0.0167553 , -0.05662438, -0.05821865, -0.00013387,\n",
              "         0.01415065,  0.00057001, -0.01904836,  0.00570772,  0.02366835,\n",
              "         0.01264514, -0.03200458, -0.06655605,  0.02537686, -0.00309356,\n",
              "         0.04065981,  0.00516844, -0.04626014, -0.05497104,  0.02578617,\n",
              "        -0.03161953, -0.06140747, -0.04583747,  0.06140757,  0.07666744,\n",
              "        -0.05389796, -0.04275716,  0.05666097, -0.04395074,  0.02010192,\n",
              "        -0.00841392, -0.02005829, -0.05382589,  0.03278065, -0.05379927,\n",
              "        -0.00453509, -0.01255278, -0.07364173,  0.03083496,  0.00087869,\n",
              "         0.05066779, -0.04186521,  0.05815328,  0.08354696, -0.00532179,\n",
              "         0.06329039,  0.01174112, -0.01314915,  0.00077177,  0.02291622,\n",
              "         0.03065803, -0.06787951, -0.02172083,  0.07533718,  0.00127898,\n",
              "        -0.04871174,  0.00938988, -0.00142935,  0.00608967,  0.03186436,\n",
              "         0.06776482,  0.03808514, -0.01245983, -0.02807801,  0.0516184 ,\n",
              "        -0.03218103,  0.03924944,  0.07584594,  0.0811816 , -0.00775911,\n",
              "         0.01553462,  0.0718727 ,  0.05527218,  0.02416423,  0.02516605,\n",
              "         0.03264371,  0.02053872, -0.02028059,  0.01163806,  0.06429192,\n",
              "        -0.00090709, -0.02343521,  0.05948556, -0.01750411, -0.06890064,\n",
              "         0.04665683,  0.06361357, -0.00056778, -0.00480984, -0.05509508,\n",
              "        -0.01899908, -0.04361759,  0.06965881, -0.04432067, -0.02230973,\n",
              "         0.04344266,  0.0020262 , -0.05677763, -0.03054966,  0.01256391,\n",
              "        -0.00214262, -0.02026073, -0.00789808,  0.06100681,  0.05294055,\n",
              "         0.03914436, -0.05680802,  0.02448014,  0.01043653, -0.03251897,\n",
              "         0.03680763, -0.06311736,  0.01881951, -0.04375204,  0.03003947,\n",
              "         0.01366345, -0.05799839, -0.03654443,  0.06170245, -0.04621167,\n",
              "         0.0435003 ,  0.01353703, -0.05890274,  0.02587802, -0.07289915,\n",
              "         0.02023185,  0.02694826, -0.00468759, -0.01319156, -0.05900607,\n",
              "        -0.07757437, -0.01200327, -0.03073451,  0.05701733, -0.05720662,\n",
              "         0.02576023, -0.03794948, -0.0437123 ,  0.05667012, -0.00968629,\n",
              "         0.03300969, -0.03878526, -0.0256879 , -0.06891984, -0.04983228,\n",
              "         0.06492153,  0.04040888,  0.01328009,  0.00216225,  0.03953877,\n",
              "         0.05242691,  0.03342117, -0.0181633 ,  0.02170096,  0.0642191 ,\n",
              "        -0.05029508, -0.03737259, -0.01995105,  0.06134201, -0.06290747,\n",
              "         0.06996907, -0.06898636, -0.05661417, -0.05154309,  0.00385972,\n",
              "         0.07428975, -0.07872086,  0.04699079,  0.08547349, -0.06741973,\n",
              "        -0.00137142, -0.03526451, -0.01721222, -0.07332243, -0.00265362,\n",
              "         0.01740984,  0.05245787, -0.05659176, -0.07822186, -0.03236103,\n",
              "         0.00989741,  0.03761866, -0.03100811,  0.05313319,  0.00629494,\n",
              "         0.05208506,  0.02572313,  0.04196066, -0.07300065,  0.05552107,\n",
              "        -0.0632855 , -0.03303416,  0.04663265,  0.01228848,  0.01495656,\n",
              "        -0.04313448, -0.04978705,  0.03954782, -0.08446223, -0.01064641,\n",
              "        -0.03967498, -0.02459853, -0.05276701,  0.05236111,  0.06277563,\n",
              "         0.00649134,  0.02844448,  0.0490649 ,  0.00431908,  0.05743399,\n",
              "         0.00922431,  0.06629954,  0.04701393,  0.01733964, -0.01923893,\n",
              "        -0.00925731, -0.05431207,  0.05555752, -0.0274677 , -0.05056152,\n",
              "        -0.01539332,  0.06414155, -0.07159647, -0.04652094,  0.02207876,\n",
              "         0.00934313, -0.07521526, -0.0385843 , -0.04134599,  0.03087768,\n",
              "         0.0386956 , -0.02851661, -0.02606917,  0.0545522 , -0.03395193,\n",
              "        -0.05571278, -0.06762712, -0.0745126 ,  0.01224705, -0.06960829,\n",
              "         0.05386225,  0.0654263 , -0.03541014,  0.05412207, -0.04614526,\n",
              "        -0.06276554, -0.07634354, -0.015718  ,  0.0571348 ,  0.02131048,\n",
              "        -0.06778154, -0.04074034, -0.01376493, -0.03675125, -0.03422989,\n",
              "        -0.00070594, -0.02197355, -0.01277644,  0.03489914,  0.03791564,\n",
              "         0.01575939,  0.04663736,  0.04852651, -0.01777171,  0.07480683,\n",
              "        -0.01550127, -0.02713957,  0.07500993,  0.05413724, -0.03849809,\n",
              "         0.02739316,  0.05359419,  0.06366038, -0.04151547, -0.06367262,\n",
              "        -0.01406379, -0.01741733, -0.05479762,  0.05053129, -0.02371859,\n",
              "         0.0637562 ,  0.0077754 ,  0.01116715,  0.06663703,  0.0372761 ,\n",
              "        -0.02068282,  0.05232405, -0.04013231,  0.03832843,  0.02668897,\n",
              "         0.07568584, -0.07001948, -0.01206004, -0.00576184,  0.02594026,\n",
              "         0.06130559,  0.00935822,  0.03324253, -0.06896581,  0.03250052,\n",
              "         0.02433123,  0.04524736,  0.07594685,  0.03859891, -0.00155487,\n",
              "         0.08020695, -0.01125222,  0.01484818, -0.03584725, -0.0472656 ,\n",
              "        -0.01879033,  0.07013599, -0.07123878, -0.02255343, -0.08087063,\n",
              "         0.06083563,  0.03384187,  0.06783216, -0.05199784,  0.0825047 ,\n",
              "        -0.0253706 ,  0.02978215, -0.01736062, -0.02072708, -0.02505811,\n",
              "         0.00782941, -0.02408711,  0.04115064,  0.00031908, -0.07363063,\n",
              "        -0.07360527,  0.00976113, -0.02866847, -0.05368564, -0.0576717 ,\n",
              "         0.03454264, -0.00654396, -0.06318174, -0.03385447, -0.02009926,\n",
              "         0.00481131,  0.0564234 ,  0.05581899,  0.04383548, -0.06056611,\n",
              "        -0.07516395, -0.00474681, -0.01574239, -0.03821478, -0.03926252,\n",
              "         0.01376621,  0.04562323,  0.02405859,  0.00334353, -0.05284358,\n",
              "        -0.06618129,  0.02575926, -0.01946677, -0.00274321, -0.00989219,\n",
              "         0.06220136, -0.02084798,  0.0666236 , -0.02647741,  0.0060826 ,\n",
              "         0.03786771, -0.00678674, -0.05982135, -0.0530003 , -0.01219721,\n",
              "         0.02788823,  0.05286624, -0.04688745, -0.01054829,  0.0243759 ,\n",
              "         0.00977608, -0.01274636,  0.06273471,  0.05737004, -0.00597735,\n",
              "        -0.00551758, -0.00659361, -0.04433967, -0.00027192, -0.02528319,\n",
              "        -0.03785698,  0.04723854, -0.07635373,  0.02427381, -0.01389552,\n",
              "        -0.04237142,  0.02952861, -0.04521492, -0.01456205,  0.06954256,\n",
              "         0.04283761, -0.02965427, -0.04498594,  0.05771077,  0.03390485,\n",
              "         0.02073358,  0.03890549, -0.00170421,  0.08077129,  0.04299726,\n",
              "         0.03720718,  0.01365875,  0.07011568,  0.06694957,  0.06584067,\n",
              "        -0.03132062,  0.01444818, -0.06132003,  0.05384007,  0.06341112,\n",
              "        -0.07048219, -0.05410434,  0.00879146, -0.02182653,  0.02580682,\n",
              "        -0.04205363, -0.04687786, -0.01152806,  0.05792759, -0.05019919,\n",
              "         0.01542627,  0.01673184, -0.08046522,  0.00297887, -0.05953894,\n",
              "         0.01677047,  0.04249109, -0.01500241,  0.08468799, -0.01660052,\n",
              "         0.07137641,  0.00433237, -0.00460825, -0.07910126, -0.01918006,\n",
              "         0.0670936 , -0.07154887, -0.02474065, -0.03609111, -0.06599046,\n",
              "        -0.00728431, -0.01211641]], dtype=float32)>"
            ]
          },
          "metadata": {},
          "execution_count": 119
        }
      ]
    },
    {
      "cell_type": "code",
      "source": [
        "from tensorflow.keras.layers import Layer\n",
        "\n",
        "# Wrap hub.KerasLayer inside a Custom Layer\n",
        "class HubEmbeddingLayer(Layer):\n",
        "    def __init__(self, hub_layer):\n",
        "        super(HubEmbeddingLayer, self).__init__()\n",
        "        self.hub_layer = hub_layer\n",
        "\n",
        "    def call(self, inputs):\n",
        "        return self.hub_layer(inputs)"
      ],
      "metadata": {
        "id": "rg9JtvSGOFdr"
      },
      "execution_count": 123,
      "outputs": []
    },
    {
      "cell_type": "code",
      "source": [
        "model = tf.keras.Sequential()\n",
        "model.add(tf.keras.layers.InputLayer(shape=(), dtype=tf.string))  # Explicit input layer\n",
        "model.add(HubEmbeddingLayer(hub_layer))\n",
        "model.add(tf.keras.layers.Dense(128, activation='relu'))\n",
        "model.add(tf.keras.layers.Dense(64, activation='relu'))\n",
        "model.add(tf.keras.layers.Dense(3, activation='softmax'))"
      ],
      "metadata": {
        "id": "rei3iiAsYNe-"
      },
      "execution_count": 124,
      "outputs": []
    },
    {
      "cell_type": "code",
      "source": [
        "optimizer = tf.keras.optimizers.Adam(learning_rate=0.01)\n",
        "model.compile(optimizer=optimizer,\n",
        "              loss='sparse_categorical_crossentropy',\n",
        "              metrics=['accuracy'])"
      ],
      "metadata": {
        "id": "GxeqIv_Hp_Hr"
      },
      "execution_count": 134,
      "outputs": []
    },
    {
      "cell_type": "code",
      "source": [
        "history = model.fit(train_data, epochs=5, validation_data=val_data)"
      ],
      "metadata": {
        "colab": {
          "base_uri": "https://localhost:8080/"
        },
        "id": "nBeRauR_27A3",
        "outputId": "7f0bc31a-3943-4ca6-941a-32025cab605a"
      },
      "execution_count": 135,
      "outputs": [
        {
          "output_type": "stream",
          "name": "stdout",
          "text": [
            "Epoch 1/5\n",
            "\u001b[1m773/773\u001b[0m \u001b[32m━━━━━━━━━━━━━━━━━━━━\u001b[0m\u001b[37m\u001b[0m \u001b[1m30s\u001b[0m 35ms/step - accuracy: 0.6894 - loss: 0.7256 - val_accuracy: 0.7180 - val_loss: 0.6714\n",
            "Epoch 2/5\n",
            "\u001b[1m773/773\u001b[0m \u001b[32m━━━━━━━━━━━━━━━━━━━━\u001b[0m\u001b[37m\u001b[0m \u001b[1m21s\u001b[0m 27ms/step - accuracy: 0.7098 - loss: 0.6755 - val_accuracy: 0.7467 - val_loss: 0.6148\n",
            "Epoch 3/5\n",
            "\u001b[1m773/773\u001b[0m \u001b[32m━━━━━━━━━━━━━━━━━━━━\u001b[0m\u001b[37m\u001b[0m \u001b[1m50s\u001b[0m 39ms/step - accuracy: 0.7349 - loss: 0.6305 - val_accuracy: 0.7656 - val_loss: 0.5670\n",
            "Epoch 4/5\n",
            "\u001b[1m773/773\u001b[0m \u001b[32m━━━━━━━━━━━━━━━━━━━━\u001b[0m\u001b[37m\u001b[0m \u001b[1m34s\u001b[0m 30ms/step - accuracy: 0.7613 - loss: 0.5747 - val_accuracy: 0.7948 - val_loss: 0.5102\n",
            "Epoch 5/5\n",
            "\u001b[1m773/773\u001b[0m \u001b[32m━━━━━━━━━━━━━━━━━━━━\u001b[0m\u001b[37m\u001b[0m \u001b[1m49s\u001b[0m 40ms/step - accuracy: 0.7787 - loss: 0.5287 - val_accuracy: 0.8137 - val_loss: 0.4618\n"
          ]
        }
      ]
    },
    {
      "cell_type": "code",
      "source": [
        "plt.figure(figsize=(12, 6))\n",
        "plt.plot(history.history['loss'], label='Training Loss', marker='o')\n",
        "plt.plot(history.history['val_loss'], label='Validation Loss', marker='s')\n",
        "plt.title('Training & Validation Loss Over Epochs')\n",
        "plt.ylabel('Loss')\n",
        "plt.xlabel('Epoch')\n",
        "plt.grid()\n",
        "plt.legend()\n",
        "plt.show()"
      ],
      "metadata": {
        "colab": {
          "base_uri": "https://localhost:8080/",
          "height": 564
        },
        "id": "Aaazqc6mdqU3",
        "outputId": "58851d7f-94c6-4b5d-b948-202906971380"
      },
      "execution_count": 136,
      "outputs": [
        {
          "output_type": "display_data",
          "data": {
            "text/plain": [
              "<Figure size 1200x600 with 1 Axes>"
            ],
            "image/png": "[encoded data removed]"
          },
          "metadata": {}
        }
      ]
    },
    {
      "cell_type": "code",
      "source": [
        "test_loss, test_acc = model.evaluate(test_data, verbose=1)\n",
        "\n",
        "print(f\"Test Loss: {test_loss:.4f}\")\n",
        "print(f\"Test Accuracy: {test_acc:.4f}\")"
      ],
      "metadata": {
        "colab": {
          "base_uri": "https://localhost:8080/"
        },
        "id": "mrhdeedCeZqI",
        "outputId": "11a8a454-4805-4b07-c16f-0f758c4f3c42"
      },
      "execution_count": 139,
      "outputs": [
        {
          "output_type": "stream",
          "name": "stdout",
          "text": [
            "\u001b[1m3534/3534\u001b[0m \u001b[32m━━━━━━━━━━━━━━━━━━━━\u001b[0m\u001b[37m\u001b[0m \u001b[1m18s\u001b[0m 5ms/step - accuracy: 0.6786 - loss: 0.8106\n",
            "Test Loss: 0.8077\n",
            "Test Accuracy: 0.6797\n"
          ]
        }
      ]
    }
  ],
  "metadata": {
    "colab": {
      "provenance": []
    },
    "kernelspec": {
      "display_name": "Python 3",
      "name": "python3"
    },
    "language_info": {
      "name": "python"
    }
  },
  "nbformat": 4,
  "nbformat_minor": 0
}